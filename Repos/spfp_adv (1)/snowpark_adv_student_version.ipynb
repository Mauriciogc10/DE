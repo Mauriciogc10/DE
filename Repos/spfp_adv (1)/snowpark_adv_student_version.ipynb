{
 "cells": [
  {
   "attachments": {},
   "cell_type": "markdown",
   "metadata": {},
   "source": [
    "# Snowpark for Python Advanced DEMO"
   ]
  },
  {
   "attachments": {},
   "cell_type": "markdown",
   "metadata": {},
   "source": [
    "## Imports"
   ]
  },
  {
   "cell_type": "code",
   "execution_count": 1,
   "metadata": {},
   "outputs": [],
   "source": [
    "# Import login values from config\n",
    "from config import *"
   ]
  },
  {
   "cell_type": "code",
   "execution_count": 2,
   "metadata": {},
   "outputs": [],
   "source": [
    "# Import packages needed\n",
    "from snowflake.snowpark import Session\n",
    "from snowflake.snowpark.functions import *\n",
    "from snowflake.snowpark.types import *\n",
    "import pandas as pd"
   ]
  },
  {
   "attachments": {},
   "cell_type": "markdown",
   "metadata": {},
   "source": [
    "## Session"
   ]
  },
  {
   "cell_type": "code",
   "execution_count": 3,
   "metadata": {},
   "outputs": [],
   "source": [
    "# Function for creating session object\n",
    "def snowpark_session_create():\n",
    "    connection_params = {\n",
    "        \"account\": account_id,\n",
    "        \"user\": username,\n",
    "        \"password\": password,\n",
    "        \"role\": role,\n",
    "        \"warehouse\": \"CHRISTOPHERMARLAND\"\n",
    "    }\n",
    "    session = Session.builder.configs(connection_params).create()\n",
    "    session.sql_simplifier_enabled = True\n",
    "    return session"
   ]
  },
  {
   "cell_type": "code",
   "execution_count": 4,
   "metadata": {},
   "outputs": [],
   "source": [
    "# Creation of session using the above function\n",
    "demo_session = snowpark_session_create()"
   ]
  },
  {
   "cell_type": "code",
   "execution_count": 5,
   "metadata": {},
   "outputs": [],
   "source": [
    "# TODO: Replace with values relevant to you\n",
    "demo_session.use_database(\"\")\n",
    "demo_session.use_schema(\"\")"
   ]
  },
  {
   "attachments": {},
   "cell_type": "markdown",
   "metadata": {},
   "source": [
    "## Look At Data"
   ]
  },
  {
   "cell_type": "code",
   "execution_count": null,
   "metadata": {},
   "outputs": [],
   "source": [
    "# TODO: Run the below after importing the data in Snowflake UI\n",
    "sales = demo_session.table(\"RAW_CREDITCO_SALES\")\n",
    "sales.show()"
   ]
  },
  {
   "cell_type": "code",
   "execution_count": null,
   "metadata": {},
   "outputs": [],
   "source": [
    "sales_items = demo_session.table(\"RAW_CREDITCO_SALES_ITEMS\")\n",
    "sales_items.show()"
   ]
  },
  {
   "attachments": {},
   "cell_type": "markdown",
   "metadata": {},
   "source": [
    "## UDF"
   ]
  },
  {
   "cell_type": "code",
   "execution_count": null,
   "metadata": {},
   "outputs": [],
   "source": [
    "# Run the below to see the transformed data\n",
    "sales_items_flat = (\n",
    "    sales_items.join_table_function(\"flatten\", col(\"data\"))\n",
    "    .withColumn(\"credit_card_number\", json_extract_path_text(\"value\", lit(\"creditCardNumber\")))\n",
    "    .withColumn(\"date_time\", json_extract_path_text(\"value\", lit(\"dateTime\")))\n",
    "    .withColumn(\"id\", md5(json_extract_path_text(\"value\", lit(\"id\"))))\n",
    "    .withColumn(\"items\", json_extract_path_text(\"value\", lit(\"items\")))\n",
    "    .select(\"ingestion_id\", \"ingested_at\", \"credit_card_number\", \"date_time\", \"id\", \"items\")\n",
    ")\n",
    "\n",
    "sales_items_flat.show()"
   ]
  },
  {
   "cell_type": "code",
   "execution_count": null,
   "metadata": {},
   "outputs": [],
   "source": [
    "# TODO: Create an interal stage for our UDF\n"
   ]
  },
  {
   "cell_type": "code",
   "execution_count": null,
   "metadata": {},
   "outputs": [],
   "source": [
    "# TODO: Place our UDF file in the internal stage\n"
   ]
  },
  {
   "cell_type": "code",
   "execution_count": 9,
   "metadata": {},
   "outputs": [],
   "source": [
    "# TODO: Register the UDF from the stage\n"
   ]
  },
  {
   "cell_type": "code",
   "execution_count": 26,
   "metadata": {},
   "outputs": [],
   "source": [
    "# TODO: Repeat the transformation above with the UDF\n"
   ]
  },
  {
   "cell_type": "code",
   "execution_count": null,
   "metadata": {},
   "outputs": [],
   "source": [
    "# TODO: .show()\n"
   ]
  },
  {
   "cell_type": "code",
   "execution_count": 37,
   "metadata": {},
   "outputs": [],
   "source": [
    "# TODO: Save as a table called `sales_items`\n"
   ]
  },
  {
   "attachments": {},
   "cell_type": "markdown",
   "metadata": {},
   "source": [
    "## Merge"
   ]
  },
  {
   "cell_type": "code",
   "execution_count": 34,
   "metadata": {},
   "outputs": [],
   "source": [
    "# Read CSV\n",
    "new_sales_item_data = pd.read_csv(\"new_sales_item_data.csv\")"
   ]
  },
  {
   "cell_type": "code",
   "execution_count": null,
   "metadata": {},
   "outputs": [],
   "source": [
    "# Print the pandas DF\n",
    "new_sales_item_data"
   ]
  },
  {
   "cell_type": "code",
   "execution_count": null,
   "metadata": {},
   "outputs": [],
   "source": [
    "# Write pandas to `new_sales_item_data` as a temp table and show the new Snowpark DF\n",
    "\n",
    "new_sales_item_data_sp = demo_session.write_pandas(\n",
    "    df = new_sales_item_data,\n",
    "    table_name = \"new_sales_item_data\",\n",
    "    overwrite=True,\n",
    "    auto_create_table=True,\n",
    "    table_type=\"temp\",\n",
    "    quote_identifiers=False\n",
    ")\n",
    "\n",
    "new_sales_item_data_sp.show()"
   ]
  },
  {
   "cell_type": "code",
   "execution_count": 38,
   "metadata": {},
   "outputs": [],
   "source": [
    "# TODO: Merge `sales_items` with `new_sales_item_data`\n"
   ]
  },
  {
   "cell_type": "code",
   "execution_count": null,
   "metadata": {},
   "outputs": [],
   "source": [
    "# TODO: Run the below to see how many rows were inserted, updated and deleted\n",
    "rged"
   ]
  },
  {
   "attachments": {},
   "cell_type": "markdown",
   "metadata": {},
   "source": [
    "## Reading from Stages"
   ]
  },
  {
   "cell_type": "code",
   "execution_count": null,
   "metadata": {},
   "outputs": [],
   "source": [
    "# TODO: Put the two json files into our `demo stage`\n"
   ]
  },
  {
   "cell_type": "code",
   "execution_count": null,
   "metadata": {},
   "outputs": [],
   "source": [
    "# TODO: Create a DataFrameReader to read `new_sales_items.json`\n"
   ]
  },
  {
   "attachments": {},
   "cell_type": "markdown",
   "metadata": {},
   "source": [
    "## Automated ELT Snowpark"
   ]
  },
  {
   "cell_type": "code",
   "execution_count": 14,
   "metadata": {},
   "outputs": [],
   "source": [
    "# Run the below to create our `transformed` table\n",
    "extract_sales = (\n",
    "    sales\n",
    "    .join_table_function(\"flatten\", col(\"data\"))\n",
    "    .withColumn(\"credit_card_number\", json_extract_path_text(\"value\", lit(\"creditCardNumber\")))\n",
    "    .withColumn(\"credit_card_type\", json_extract_path_text(\"value\", lit(\"creditCardType\")))\n",
    "    .withColumn(\"date_time\", json_extract_path_text(\"value\", lit(\"dateTime\")))\n",
    "    .withColumn(\"id\", md5(json_extract_path_text(\"value\", lit(\"id\"))))\n",
    "    .withColumn(\"sale_amount\", json_extract_path_text(\"value\", lit(\"saleAmount\")))\n",
    "    .select(\"credit_card_number\", \"credit_card_type\", \"date_time\", \"id\", \"sale_amount\")\n",
    ")\n",
    "\n",
    "extract_sales_items = (\n",
    "    sales_items\n",
    "    .join_table_function(\"flatten\", col(\"data\"))\n",
    "    .withColumn(\"credit_card_number\", json_extract_path_text(\"value\", lit(\"creditCardNumber\")))\n",
    "    .withColumn(\"date_time\", json_extract_path_text(\"value\", lit(\"dateTime\")))\n",
    "    .withColumn(\"id\", md5(json_extract_path_text(\"value\", lit(\"id\"))))\n",
    "    .withColumn(\"items\", sort_alphabetically(parse_json(json_extract_path_text(\"value\", lit(\"items\")))))\n",
    "    .select(\"credit_card_number\", \"date_time\", \"id\", \"items\")\n",
    ")\n",
    "\n",
    "join_sales_and_sales_items = (\n",
    "    extract_sales.join(\n",
    "        right= extract_sales_items,\n",
    "        on= extract_sales.id == extract_sales_items.id,\n",
    "        rsuffix = \"_si\"\n",
    "    )\n",
    "    .select(\n",
    "        \"credit_card_number\",\n",
    "        \"date_time\", \"id\", \"items\",\n",
    "        \"sale_amount\"\n",
    "    )\n",
    ")\n",
    "\n",
    "join_sales_and_sales_items.write.mode(\"overwrite\").save_as_table(\n",
    "    table_name = \"sales_data\"\n",
    ")"
   ]
  },
  {
   "cell_type": "code",
   "execution_count": null,
   "metadata": {},
   "outputs": [],
   "source": [
    "# TODO: Run and show\n",
    "join_sales_and_sales_items.show()"
   ]
  },
  {
   "cell_type": "code",
   "execution_count": 44,
   "metadata": {},
   "outputs": [],
   "source": [
    "# TODO: Create DataFrameReaders of the two .json files in our stage\n"
   ]
  },
  {
   "cell_type": "code",
   "execution_count": null,
   "metadata": {},
   "outputs": [],
   "source": [
    "# TODO: Transform the new data as you did the old data\n"
   ]
  },
  {
   "cell_type": "code",
   "execution_count": null,
   "metadata": {},
   "outputs": [],
   "source": [
    "# TODO: Merge the new data into the old\n"
   ]
  },
  {
   "cell_type": "code",
   "execution_count": 48,
   "metadata": {},
   "outputs": [],
   "source": [
    "# TODO: Drop the transient tables\n"
   ]
  },
  {
   "cell_type": "code",
   "execution_count": null,
   "metadata": {},
   "outputs": [],
   "source": [
    "# TODO: Remove the files from the stage\n"
   ]
  },
  {
   "cell_type": "code",
   "execution_count": null,
   "metadata": {},
   "outputs": [],
   "source": []
  }
 ],
 "metadata": {
  "kernelspec": {
   "display_name": "streamlit",
   "language": "python",
   "name": "python3"
  },
  "language_info": {
   "codemirror_mode": {
    "name": "ipython",
    "version": 3
   },
   "file_extension": ".py",
   "mimetype": "text/x-python",
   "name": "python",
   "nbconvert_exporter": "python",
   "pygments_lexer": "ipython3",
   "version": "3.8.15"
  },
  "orig_nbformat": 4
 },
 "nbformat": 4,
 "nbformat_minor": 2
}
